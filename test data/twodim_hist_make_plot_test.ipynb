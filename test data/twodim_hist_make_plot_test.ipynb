{
 "cells": [
  {
   "cell_type": "code",
   "execution_count": 1,
   "id": "bc526242",
   "metadata": {},
   "outputs": [],
   "source": [
    "#all of the code here executes without error\n",
    "#it started erroring out again. lets restart jupyter\n",
    "import feda_tools as ft"
   ]
  },
  {
   "cell_type": "code",
   "execution_count": 10,
   "id": "4d0f4bf1-ef40-4e9d-ae93-75edd1dd7d30",
   "metadata": {},
   "outputs": [
    {
     "name": "stdout",
     "output_type": "stream",
     "text": [
      "TEST\n"
     ]
    }
   ],
   "source": [
    "ft.utilities.test()"
   ]
  },
  {
   "cell_type": "code",
   "execution_count": 3,
   "id": "463dc9f4-7c93-4e4e-a3c8-14e389660db6",
   "metadata": {},
   "outputs": [
    {
     "ename": "AttributeError",
     "evalue": "module 'feda_tools' has no attribute 'utilities'",
     "output_type": "error",
     "traceback": [
      "\u001b[1;31m---------------------------------------------------------------------------\u001b[0m",
      "\u001b[1;31mAttributeError\u001b[0m                            Traceback (most recent call last)",
      "Cell \u001b[1;32mIn[3], line 1\u001b[0m\n\u001b[1;32m----> 1\u001b[0m ft\u001b[38;5;241m.\u001b[39mutilities\u001b[38;5;241m.\u001b[39mtest()\n",
      "\u001b[1;31mAttributeError\u001b[0m: module 'feda_tools' has no attribute 'utilities'"
     ]
    }
   ],
   "source": [
    "ft.utilities.test()"
   ]
  },
  {
   "cell_type": "code",
   "execution_count": 4,
   "id": "3ea4da21",
   "metadata": {},
   "outputs": [],
   "source": [
    "x = [0,1,2,3,4,5]\n",
    "y = [0,1,2,3,4,5]"
   ]
  },
  {
   "cell_type": "code",
   "execution_count": 5,
   "id": "7a5e2da6",
   "metadata": {},
   "outputs": [
    {
     "ename": "AttributeError",
     "evalue": "module 'feda_tools' has no attribute 'twodim_hist'",
     "output_type": "error",
     "traceback": [
      "\u001b[1;31m---------------------------------------------------------------------------\u001b[0m",
      "\u001b[1;31mAttributeError\u001b[0m                            Traceback (most recent call last)",
      "Cell \u001b[1;32mIn[5], line 1\u001b[0m\n\u001b[1;32m----> 1\u001b[0m fig,ax,data \u001b[38;5;241m=\u001b[39m ft\u001b[38;5;241m.\u001b[39mtwodim_hist\u001b[38;5;241m.\u001b[39mmake_plot(x, y, \u001b[38;5;124m\"\u001b[39m\u001b[38;5;124mx\u001b[39m\u001b[38;5;124m\"\u001b[39m, \u001b[38;5;124m\"\u001b[39m\u001b[38;5;124mauto\u001b[39m\u001b[38;5;124m\"\u001b[39m, \u001b[38;5;124m\"\u001b[39m\u001b[38;5;124my\u001b[39m\u001b[38;5;124m\"\u001b[39m)\n",
      "\u001b[1;31mAttributeError\u001b[0m: module 'feda_tools' has no attribute 'twodim_hist'"
     ]
    }
   ],
   "source": [
    "fig,ax,data = ft.twodim_hist.make_plot(x, y, \"x\", \"auto\", \"y\")\n",
    "# fig,ax,data = ft.twodim_hist.make_plot(x, y, \"x\", \"auto\", \"y\")"
   ]
  },
  {
   "cell_type": "code",
   "execution_count": 6,
   "id": "3d9a109a",
   "metadata": {},
   "outputs": [
    {
     "ename": "NameError",
     "evalue": "name 'data' is not defined",
     "output_type": "error",
     "traceback": [
      "\u001b[1;31m---------------------------------------------------------------------------\u001b[0m",
      "\u001b[1;31mNameError\u001b[0m                                 Traceback (most recent call last)",
      "Cell \u001b[1;32mIn[6], line 1\u001b[0m\n\u001b[1;32m----> 1\u001b[0m \u001b[38;5;28mprint\u001b[39m(data)\n",
      "\u001b[1;31mNameError\u001b[0m: name 'data' is not defined"
     ]
    }
   ],
   "source": [
    "print(data)"
   ]
  },
  {
   "cell_type": "code",
   "execution_count": 1,
   "id": "2664dcb7-bbf8-4062-84ba-d3fcd26dd79f",
   "metadata": {},
   "outputs": [],
   "source": [
    "from feda_tools import utilities as utils"
   ]
  },
  {
   "cell_type": "code",
   "execution_count": 2,
   "id": "4fcb166a-3b0e-4f9e-b1de-81cbb034396d",
   "metadata": {},
   "outputs": [
    {
     "name": "stdout",
     "output_type": "stream",
     "text": [
      "TEST\n"
     ]
    }
   ],
   "source": [
    "utils.test()"
   ]
  },
  {
   "cell_type": "code",
   "execution_count": null,
   "id": "ae795038-dc0c-4efc-863b-d3b7a6bcafd5",
   "metadata": {},
   "outputs": [],
   "source": []
  }
 ],
 "metadata": {
  "kernelspec": {
   "display_name": "Python 3 (ipykernel)",
   "language": "python",
   "name": "python3"
  },
  "language_info": {
   "codemirror_mode": {
    "name": "ipython",
    "version": 3
   },
   "file_extension": ".py",
   "mimetype": "text/x-python",
   "name": "python",
   "nbconvert_exporter": "python",
   "pygments_lexer": "ipython3",
   "version": "3.11.5"
  }
 },
 "nbformat": 4,
 "nbformat_minor": 5
}
