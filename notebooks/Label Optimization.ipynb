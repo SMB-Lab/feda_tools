{
 "cells": [
  {
   "cell_type": "code",
   "execution_count": 67,
   "id": "abc18796-7c80-4e6c-b55d-d86c2d7a1a5f",
   "metadata": {},
   "outputs": [],
   "source": [
    "import pickle\n",
    "from feda_tools import fileselector as fs\n",
    "import tttrlib\n",
    "import matplotlib.pyplot as plt\n",
    "import time"
   ]
  },
  {
   "cell_type": "code",
   "execution_count": 3,
   "id": "6a786fef-072d-419a-91e2-49389dee38b5",
   "metadata": {},
   "outputs": [],
   "source": [
    "pickle_file = fs.gui_fname()"
   ]
  },
  {
   "cell_type": "code",
   "execution_count": 4,
   "id": "d24767a0-7b51-428c-a944-47e04b884b87",
   "metadata": {},
   "outputs": [],
   "source": [
    "# test that the loaded burst is identical to the pickled burst.\n",
    "with open(pickle_file[0], 'rb') as file:\n",
    "    burst_dict = pickle.load(file)\n"
   ]
  },
  {
   "cell_type": "code",
   "execution_count": 31,
   "id": "afe454e0-2321-41f9-a1cd-499f4f394fa6",
   "metadata": {},
   "outputs": [
    {
     "name": "stdout",
     "output_type": "stream",
     "text": [
      "/Users/frankie/Documents/source/repos/feda_tools/test data/2022/03_02_22_Troubleshooting_detection_efficiencies/Combined_old_thresholds/Split_After_Adjust_LF_7200s_pinhole6-000000.ptu\n",
      "/Users/frankie/Documents/source/repos/feda_tools/test data/2022/03_02_22_Troubleshooting_detection_efficiencies/Combined_old_thresholds/Split_After_Adjust_LF_7200s_pinhole6-000001.ptu\n",
      "/Users/frankie/Documents/source/repos/feda_tools/test data/2022/03_02_22_Troubleshooting_detection_efficiencies/Combined_old_thresholds/Split_After_Adjust_LF_7200s_pinhole6-000002.ptu\n",
      "/Users/frankie/Documents/source/repos/feda_tools/test data/2022/03_02_22_Troubleshooting_detection_efficiencies/Combined_old_thresholds/Split_After_Adjust_LF_7200s_pinhole6-000003.ptu\n",
      "/Users/frankie/Documents/source/repos/feda_tools/test data/2022/03_02_22_Troubleshooting_detection_efficiencies/Combined_old_thresholds/Split_After_Adjust_LF_7200s_pinhole6-000004.ptu\n",
      "/Users/frankie/Documents/source/repos/feda_tools/test data/2022/03_02_22_Troubleshooting_detection_efficiencies/Combined_old_thresholds/Split_After_Adjust_LF_7200s_pinhole6-000005.ptu\n",
      "/Users/frankie/Documents/source/repos/feda_tools/test data/2022/03_02_22_Troubleshooting_detection_efficiencies/Combined_old_thresholds/Split_After_Adjust_LF_7200s_pinhole6-000006.ptu\n",
      "/Users/frankie/Documents/source/repos/feda_tools/test data/2022/03_02_22_Troubleshooting_detection_efficiencies/Combined_old_thresholds/Split_After_Adjust_LF_7200s_pinhole6-000007.ptu\n"
     ]
    }
   ],
   "source": [
    "burst_dict = dict(sorted(burst_dict.items()))\n",
    "for key, value in sorted_burst_dict.items():\n",
    "    print(key)\n",
    "\n",
    "first_pair = next(iter(burst_dict.items()))\n",
    "current_ptu = first_pair[0]\n",
    "current_burst_index = first_pair[1]"
   ]
  },
  {
   "cell_type": "code",
   "execution_count": 51,
   "id": "5de1787c-63e3-4520-b5a0-bb8da859b73f",
   "metadata": {},
   "outputs": [],
   "source": [
    "# data_ptu = tttrlib.TTTR(dir + file_ptu, 'PTU')\n",
    "data_ptu = tttrlib.TTTR(current_ptu, 'PTU')\n",
    "routing_channels =  data_ptu.routing_channels\n",
    "all_macro_times = data_ptu.macro_times\n",
    "all_micro_times = data_ptu.micro_times\n",
    "\n",
    "prompt_end = 12499\n",
    "delay_end = 25000"
   ]
  },
  {
   "cell_type": "code",
   "execution_count": 68,
   "id": "7b761235-9ae9-4648-b29d-db40530e4909",
   "metadata": {},
   "outputs": [
    {
     "name": "stdout",
     "output_type": "stream",
     "text": [
      "calculating signal ratio for Split_After_Adjust_LF_7200s_pinhole6-000000.ptu\n",
      "calculating signal ratio for Split_After_Adjust_LF_7200s_pinhole6-000001.ptu\n",
      "calculating signal ratio for Split_After_Adjust_LF_7200s_pinhole6-000002.ptu\n",
      "calculating signal ratio for Split_After_Adjust_LF_7200s_pinhole6-000003.ptu\n",
      "calculating signal ratio for Split_After_Adjust_LF_7200s_pinhole6-000004.ptu\n",
      "calculating signal ratio for Split_After_Adjust_LF_7200s_pinhole6-000005.ptu\n",
      "calculating signal ratio for Split_After_Adjust_LF_7200s_pinhole6-000006.ptu\n",
      "calculating signal ratio for Split_After_Adjust_LF_7200s_pinhole6-000007.ptu\n",
      "The loop took 34.52185273170471 seconds to run.\n"
     ]
    }
   ],
   "source": [
    "min_photon_count = 60\n",
    "sig_ratio_list = list()\n",
    "\n",
    "start_time = time.time()\n",
    "for ptu_file, burst_index in sorted_burst_dict.items():\n",
    "    ptu_filename = ptu_file.split(\"/\")[-1]\n",
    "    print(\"calculating signal ratio for \" + ptu_filename)\n",
    "    \n",
    "    for burst in burst_index:\n",
    "\n",
    "        # filter out bursts with one or less photons.\n",
    "        if len(burst) <= min_photon_count:\n",
    "            continue\n",
    "    \n",
    "        # get green prompt count where the corresponding channel is 2 or 0 and 0 < micro time < 12499 (prompt) using list comprehension \n",
    "        green_photons = [index for index in burst if \n",
    "                           routing_channels[index] == 2 or \n",
    "                           routing_channels[index] == 0 and\n",
    "                           0 < all_micro_times[index] < prompt_end\n",
    "                      ]\n",
    "        green_count = len(green_photons)\n",
    "        # print(\"green \" + str(green_count))\n",
    "    \n",
    "        # get red prompt count where the corresponding channel is 2 or 0 and 0 < micro time < 12499 (prompt) using list comprehension \n",
    "        red_photons = [index for index in burst if \n",
    "                           routing_channels[index] == 3 or \n",
    "                           routing_channels[index] == 1 and\n",
    "                           0 < all_micro_times[index] < prompt_end\n",
    "                      ]\n",
    "        red_count = len(red_photons)\n",
    "        # print(\"red \" + str(red_count))\n",
    "    \n",
    "        # get red delay (yellow) count where the corresponding channel is 3 or 1 and 12499 < micro time < 25000 (prompt) using list comprehension \n",
    "        yellow_photons = [index for index in burst if \n",
    "                           routing_channels[index] == 3 or \n",
    "                           routing_channels[index] == 1 and\n",
    "                           prompt_end < all_micro_times[index] < delay_end\n",
    "                      ]\n",
    "        yellow_count = len(yellow_photons)\n",
    "        # print(\"yellow \" + str(yellow_count))\n",
    "    \n",
    "        sig_ratio = ( green_count + red_count ) / ( green_count + red_count + yellow_count )\n",
    "        sig_ratio_list.append(sig_ratio)\n",
    "end_time = time.time()\n",
    "\n",
    "# Calculate the duration\n",
    "duration = end_time - start_time\n",
    "    \n",
    "# Print the duration in seconds\n",
    "print(f\"The loop took {duration} seconds to run.\")"
   ]
  },
  {
   "cell_type": "code",
   "execution_count": 69,
   "id": "ec7192c1-6d95-482d-97a6-344718a7e749",
   "metadata": {},
   "outputs": [
    {
     "data": {
      "image/png": "[encoded data removed]",
      "text/plain": [
       "<Figure size 432x288 with 1 Axes>"
      ]
     },
     "metadata": {},
     "output_type": "display_data"
    }
   ],
   "source": [
    "plt.hist(sig_ratio_list, bins=100, color='skyblue', edgecolor='black')\n",
    " \n",
    "# Adding labels and title\n",
    "plt.xlabel('Prompt/Total')\n",
    "plt.ylabel('Counts')\n",
    "plt.title('Prompt/Total Histogram')\n",
    "\n",
    "# Display the plot\n",
    "plt.show()"
   ]
  },
  {
   "cell_type": "code",
   "execution_count": null,
   "id": "b386af9f-6068-4db8-89af-b1b20a095ff2",
   "metadata": {},
   "outputs": [],
   "source": []
  }
 ],
 "metadata": {
  "kernelspec": {
   "display_name": "Python 3 (Spyder)",
   "language": "python3",
   "name": "python3"
  },
  "language_info": {
   "codemirror_mode": {
    "name": "ipython",
    "version": 3
   },
   "file_extension": ".py",
   "mimetype": "text/x-python",
   "name": "python",
   "nbconvert_exporter": "python",
   "pygments_lexer": "ipython3",
   "version": "3.11.9"
  }
 },
 "nbformat": 4,
 "nbformat_minor": 5
}
