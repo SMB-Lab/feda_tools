{
 "cells": [
  {
   "cell_type": "code",
   "execution_count": 4,
   "id": "abc18796-7c80-4e6c-b55d-d86c2d7a1a5f",
   "metadata": {},
   "outputs": [],
   "source": [
    "import pickle\n",
    "from feda_tools import fileselector as fs"
   ]
  },
  {
   "cell_type": "code",
   "execution_count": 5,
   "id": "6a786fef-072d-419a-91e2-49389dee38b5",
   "metadata": {},
   "outputs": [],
   "source": [
    "pickle_file = fs.gui_fname()"
   ]
  },
  {
   "cell_type": "code",
   "execution_count": 7,
   "id": "d24767a0-7b51-428c-a944-47e04b884b87",
   "metadata": {},
   "outputs": [],
   "source": [
    "# test that the loaded burst is identical to the pickled burst.\n",
    "with open(pickle_file[0], 'rb') as file:\n",
    "    loaded_burst_dict = pickle.load(file)"
   ]
  },
  {
   "cell_type": "code",
   "execution_count": null,
   "id": "afe454e0-2321-41f9-a1cd-499f4f394fa6",
   "metadata": {},
   "outputs": [],
   "source": []
  }
 ],
 "metadata": {
  "kernelspec": {
   "display_name": "Python 3 (Spyder)",
   "language": "python3",
   "name": "python3"
  },
  "language_info": {
   "codemirror_mode": {
    "name": "ipython",
    "version": 3
   },
   "file_extension": ".py",
   "mimetype": "text/x-python",
   "name": "python",
   "nbconvert_exporter": "python",
   "pygments_lexer": "ipython3",
   "version": "3.11.9"
  }
 },
 "nbformat": 4,
 "nbformat_minor": 5
}
