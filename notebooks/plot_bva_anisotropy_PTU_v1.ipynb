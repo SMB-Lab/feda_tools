{
 "cells": [
  {
   "cell_type": "markdown",
   "id": "97d24566-8c72-441f-b799-dbfcdece36b1",
   "metadata": {},
   "source": [
    "# Compute BVA histograms"
   ]
  },
  {
   "cell_type": "markdown",
   "id": "ae83a0e3-2251-4f81-8659-4fae5c3fce43",
   "metadata": {},
   "source": [
    "## Imports"
   ]
  },
  {
   "cell_type": "code",
   "execution_count": 1,
   "id": "2366c225-faf1-4e5b-8472-925a2a729a96",
   "metadata": {},
   "outputs": [],
   "source": [
    "from typing import Dict, List, Tuple\n",
    "\n",
    "import tqdm\n",
    "\n",
    "import numpy as np\n",
    "import pandas as pd\n",
    "\n",
    "import scipy\n",
    "import scipy.stats\n",
    "\n",
    "import seaborn as sns\n",
    "import matplotlib.pyplot as plt\n",
    "\n",
    "import pathlib\n",
    "import tttrlib\n",
    "\n",
    "import os\n",
    "\n",
    "from feda_tools import twodim_hist as tdh\n",
    "from feda_tools import utilities as utils\n",
    "from feda_tools import analysis as an"
   ]
  },
  {
   "cell_type": "markdown",
   "id": "778ad922-d3cb-4553-9b23-d533e85ecff4",
   "metadata": {},
   "source": [
    "## Custom functions"
   ]
  },
  {
   "cell_type": "code",
   "execution_count": 2,
   "id": "4aef8bb4-cf54-44ba-8331-75c0b773d470",
   "metadata": {},
   "outputs": [],
   "source": [
    "def compute_bva_anisotropy_mean_std(\n",
    "    df: pd.DataFrame, # Target data frame\n",
    "    # Green parallel\n",
    "    green_p_channels: List[int] =[0],  \n",
    "    green_p_micro_time_ranges: List[Tuple[int, int]] = [(0, 12499)], # First & Last Channel Number (Prompt) PQ HydraHarp (TAC Channels)\n",
    "    \n",
    "    # Green Perpendicular\n",
    "    green_s_channels: List[int] = [2],\n",
    "    green_s_micro_time_ranges: List[Tuple[int, int]] = [(0, 12499)], # First & Last Channel Number (Prompt) PQ HydraHarp (TAC Channels)\n",
    "    \n",
    "    #time/photon windown\n",
    "    minimum_window_length: float = 0.01,  # size of time window within burst\n",
    "    number_of_photons_per_slice: int = -1\n",
    "):\n",
    "    # Iterate through rows using iterrows()\n",
    "    rs_ratios_mean, rs_ratios_sd = list(), list() # r_scatter\n",
    "    mt_green_p_mean, mt_green_p_sd = list(), list() # Parallel\n",
    "    mt_green_s_mean, mt_green_s_sd = list(), list() # Perpendicular\n",
    "    \n",
    "    for index, row in tqdm.tqdm(df.iterrows(), total=df.shape[0]):\n",
    "        \n",
    "        # Select tttr data of burst out of dictionary\n",
    "        ff, fl = row['First File'], row['Last File']\n",
    "        tttr = tttrs[ff]\n",
    "        time_calibration = tttr.header.tag('MeasDesc_GlobalResolution')['value'] # For PTU Files\n",
    "        #time_calibration = 1/(tttr.header.tag('SyncRate')['value']) # For HT3 files\n",
    "        #time_calibration = 5.00E-8\n",
    "        #print(time_calibration) # 50 ns 5E-8\n",
    "        \n",
    "        # Select events within burst\n",
    "        burst_start, burst_stop = int(row['First Photon']), int(row['Last Photon'])\n",
    "        burst_tttr = tttr[burst_start:burst_stop]\n",
    "        \n",
    "        # Either select TWs by the number of photons in a TW or by the number of photons\n",
    "        if number_of_photons_per_slice < 0:\n",
    "            \n",
    "            # Split burst into time windows\n",
    "            burst_tws = burst_tttr.get_ranges_by_time_window(minimum_window_length, macro_time_calibration=time_calibration)\n",
    "            burst_tws = burst_tws.reshape((len(burst_tws)//2, 2))\n",
    "            \n",
    "            # Create tttr objects of burst TWs\n",
    "            burst_tws_tttr = [burst_tttr[start: stop] for start, stop in burst_tws]\n",
    "        else:\n",
    "            # Split bursts into chunks with a certain number of photons\n",
    "            chunk_size = number_of_photons_per_slice\n",
    "            burst_tws_tttr = [burst_tttr[i:i+chunk_size] for i in range(0, len(burst_tttr), chunk_size)]\n",
    "    \n",
    "        # Compute for each time window in a burst the proximity ratio\n",
    "        n_green_p, n_green_s = list(), list()\n",
    "        mt_green_p, mt_green_s = list(), list()\n",
    "        for tw_tttr in burst_tws_tttr:            \n",
    "            # mask all photons that are not Green photons (Parallel)\n",
    "            mask_green_p = tttrlib.TTTRMask()\n",
    "            mask_green_p.select_channels(tw_tttr, green_p_channels)\n",
    "            mask_green_p.select_microtime_ranges(tw_tttr, green_p_micro_time_ranges)\n",
    "            \n",
    "            # mask all photons that are not Green photons (Perpendicular)\n",
    "            mask_green_s = tttrlib.TTTRMask()\n",
    "            mask_green_s.select_channels(tw_tttr, green_s_channels)\n",
    "            mask_green_s.select_microtime_ranges(tw_tttr, green_s_micro_time_ranges)\n",
    "            \n",
    "            # Assign time window to selector\n",
    "            mask_green_p.set_tttr(tw_tttr)\n",
    "            mask_green_s.set_tttr(tw_tttr)\n",
    "            \n",
    "            # Get number of green parallel and perpendicular photons in TW\n",
    "            n_green_p.append(len(mask_green_p.get_indices()))\n",
    "            n_green_s.append(len(mask_green_s.get_indices()))\n",
    "\n",
    "            # Get the mean micro time\n",
    "            mt_green_p.append(tw_tttr[mask_green_p.get_indices()].get_mean_microtime())\n",
    "            mt_green_s.append(tw_tttr[mask_green_s.get_indices()].get_mean_microtime())\n",
    "\n",
    "        # Compute mean and sd of intensities rs (Anisotropy)\n",
    "        tw_n_green_p = np.array(n_green_p)\n",
    "        tw_n_green_s = np.array(n_green_s)\n",
    "        \n",
    "        #Correction Fractors G-factor and background\n",
    "        G = 1/g\n",
    "        duration = duration_tw/2 # Calcualtion rom Time windows duration_tw = 5/mean_cr. Divided into 2 because prompt and delay\n",
    "        tw_B_p = B_p*duration\n",
    "        tw_B_s = B_s*duration\n",
    "        \n",
    "        #Calculation\n",
    "        tw_rs_ratios = (tw_n_green_p - tw_B_p - G*(tw_n_green_s-tw_B_s))/ (tw_n_green_p - tw_B_p + 2*G*(tw_n_green_s - tw_B_s))\n",
    "        rs_ratio_mean, rs_ratio_sd = tw_rs_ratios.mean(), tw_rs_ratios.std()\n",
    "        rs_ratios_mean.append(rs_ratio_mean)\n",
    "        rs_ratios_sd.append(rs_ratio_sd)\n",
    "\n",
    "        # Compute mean and sd of microtimes Green Parallel and Perpendicular\n",
    "        mt_green_p = np.array(mt_green_p)\n",
    "        mt_green_p_mean.append(mt_green_p.mean())\n",
    "        mt_green_p_sd.append(mt_green_p.std())\n",
    "\n",
    "        mt_green_s = np.array(mt_green_s)\n",
    "        mt_green_s_mean.append(mt_green_s.mean())\n",
    "        mt_green_p_sd.append(mt_green_s.std())\n",
    "\n",
    "    rs_ratios_mean = np.array(rs_ratios_mean)\n",
    "    rs_ratios_sd = np.array(rs_ratios_sd)\n",
    "    df['Anisotropy Mean'] = rs_ratios_mean #rscatter (background corrected)\n",
    "    df['Anisotropy Std'] = rs_ratios_sd #rscatter (background corrected)\n",
    "    \n",
    "    #df['Microtime Green P Mean'] = mt_green_p_mean\n",
    "    #df['Microtime Green P Std'] = mt_green_p_sd\n",
    "\n",
    "    #df['Microtime Green S Mean'] = mt_green_s_mean\n",
    "    #df['Microtime Green S Std'] = mt_green_s_sd"
   ]
  },
  {
   "cell_type": "markdown",
   "id": "8811c5cc",
   "metadata": {},
   "source": [
    "def compute_static_simulated_species(\n",
    "    number_of_photons_per_slice_sim: int = 4\n",
    ") -> Tuple[np.array, np.array]:\n",
    "    prox_mean = list()\n",
    "    prox_sd = list()\n",
    "    n_samples = 10000\n",
    "    for prox in prox_mean_bins:\n",
    "        prox_sim_red = np.random.binomial(number_of_photons_per_slice_sim, prox, n_samples)\n",
    "        prox_sim_green = number_of_photons_per_slice_sim - prox_sim_red\n",
    "        prox = prox_sim_red / (prox_sim_red + prox_sim_green)\n",
    "        prox_mean.append(prox.mean())\n",
    "        prox_sd.append(prox.std())\n",
    "    return np.array(prox_mean), np.array(prox_sd)"
   ]
  },
  {
   "cell_type": "code",
   "execution_count": 3,
   "id": "560e31c0-dbd6-45dd-bd15-8d69e3ae0f6a",
   "metadata": {},
   "outputs": [],
   "source": [
    "def average_histogram(\n",
    "    counts: np.ndarray,\n",
    "    x_bins: np.ndarray,\n",
    "    y_bins: np.ndarray\n",
    ") -> Tuple[np.ndarray, np.ndarray]:\n",
    "    \"\"\"Compute the mean and the sd over the bins of a 2D histogram\n",
    "    \"\"\"\n",
    "    mean = list()\n",
    "    sd = list()\n",
    "    h = counts\n",
    "    y = y_bins[1:]\n",
    "    y2 = y * y\n",
    "    x = x_bins[1:]\n",
    "    for i, prox in enumerate(x):\n",
    "        c = h[i]\n",
    "        s = np.sum(c)\n",
    "        m1 = c @ y / s\n",
    "        m2 = c @ y2 / s\n",
    "        mean.append(m1)\n",
    "        v = np.sqrt(m2 - m1*m1) / np.sqrt(s)\n",
    "        sd.append(v)\n",
    "    sd = np.array(sd)\n",
    "    mean = np.array(mean)\n",
    "    return mean, sd"
   ]
  },
  {
   "cell_type": "markdown",
   "id": "d21f787c-f54a-4dd3-b4a4-d09f0fcfe42a",
   "metadata": {},
   "source": [
    "## Read single molecule analysis & Correction Parameters"
   ]
  },
  {
   "cell_type": "code",
   "execution_count": 16,
   "id": "95ccae61-0bd9-4f3c-82b3-82133ee5bf6f",
   "metadata": {},
   "outputs": [
    {
     "name": "stdout",
     "output_type": "stream",
     "text": [
      "The path exists.\n"
     ]
    }
   ],
   "source": [
    "# Load PTU Files\n",
    "# file_path = pathlib.Path('//130.127.188.19/projects/FoxP_FKH-DNA/20220314_FoxP1_data_all_NK/20220310_V78C_monomer_NK/V78C_monomer_FoxP1_1hr/burstwise_All 0.2027#30')\n",
    "# bid_path = pathlib.Path('//130.127.188.19/projects/FoxP_FKH-DNA/20220314_FoxP1_data_all_NK/20220310_V78C_monomer_NK/V78C_monomer_FoxP1_1hr/burstwise_All 0.2027#30/BIDs_30ph')\n",
    "\n",
    "### for testing purposes ###\n",
    "file_path = pathlib.Path('C:/Users/2administrator/Documents/source/repos/feda_tools/test data/2022/03_02_22_Troubleshooting_detection_efficiencies/Combined_old_thresholds/burstwise_All 0.2944#60')\n",
    "bid_path = pathlib.Path('C:/Users/2administrator/Documents/source/repos/feda_tools/test data/2022/03_02_22_Troubleshooting_detection_efficiencies/Combined_old_thresholds/burstwise_All 0.2944#60/BID/FRET')\n",
    "\n",
    "if file_path.exists():\n",
    "    print(\"The path exists.\")\n",
    "else:\n",
    "    print(\"The path does not exist.\")\n",
    "    "
   ]
  },
  {
   "cell_type": "code",
   "execution_count": 17,
   "id": "5e7def84-57a1-4491-b721-3fb71cd839b8",
   "metadata": {},
   "outputs": [
    {
     "name": "stdout",
     "output_type": "stream",
     "text": [
      "Could not convert First File to numeric\n",
      "Could not convert Last File to numeric\n"
     ]
    }
   ],
   "source": [
    "data_path = file_path\n",
    "df, tttrs = utils.read_analysis(data_path, file_type=\"PTU\")"
   ]
  },
  {
   "cell_type": "code",
   "execution_count": 18,
   "id": "5f0cc252-ea51-46db-9344-883ac9f44434",
   "metadata": {},
   "outputs": [],
   "source": [
    "# filter the full data set using selected burst ids\n",
    "df = an.filter_burstids(df, bid_path)"
   ]
  },
  {
   "cell_type": "code",
   "execution_count": 19,
   "id": "05a8b39f",
   "metadata": {},
   "outputs": [
    {
     "name": "stdout",
     "output_type": "stream",
     "text": [
      "Index(['Ng-p-all', 'Ng-s-all', 'Number of Photons (fit window) (green)',\n",
      "       'Ng-p (fit window)', 'Ng-s (fit window)', '2I*  (green)', 'Tau (green)',\n",
      "       'gamma (green)', 'r0 (green)', 'rho (green)', 'BIFL scatter? (green)',\n",
      "       '2I*: P+2S? (green)', 'r Scatter (green)', 'r Experimental (green)',\n",
      "       'First Photon', 'Last Photon', 'Duration (ms)', 'Mean Macro Time (ms)',\n",
      "       'Number of Photons', 'Count Rate (KHz)', 'First File', 'Last File',\n",
      "       'Duration (green) (ms)', 'Mean Macrotime (green) (ms)',\n",
      "       'Number of Photons (green)', 'Green Count Rate (KHz)',\n",
      "       'Duration (red) (ms)', 'Mean Macrotime (red) (ms)',\n",
      "       'Number of Photons (red)', 'Red Count Rate (KHz)',\n",
      "       'Duration (yellow) (ms)', 'Mean Macrotime (yellow) (ms)',\n",
      "       'Number of Photons (yellow)', 'Yellow Count Rate (KHz)',\n",
      "       'S prompt red (kHz) | 2-180', 'S delayed red (kHz) | 198-380',\n",
      "       'TGX-TRR'],\n",
      "      dtype='object')\n"
     ]
    }
   ],
   "source": [
    "# Print Column Names\n",
    "print(df.columns)"
   ]
  },
  {
   "cell_type": "code",
   "execution_count": 20,
   "id": "c3553c13",
   "metadata": {},
   "outputs": [],
   "source": [
    "##Correction g-factor \n",
    "g = 1.0 #\n",
    "B_p = 1.6 # Background kHz Green p\n",
    "B_s = 1.1 # Background kHz Green s"
   ]
  },
  {
   "cell_type": "markdown",
   "id": "dd19b90a",
   "metadata": {},
   "source": [
    "## Calculate MFD Parameters"
   ]
  },
  {
   "cell_type": "code",
   "execution_count": 23,
   "id": "756d3764",
   "metadata": {},
   "outputs": [],
   "source": [
    "# calculate Sg/Sr (prompt)\n",
    "S_G = df['Green Count Rate (KHz)'] #df['Number of Photons (fit window) (green)']/df['Duration (green) (ms)'] \n",
    "S_R = df['S prompt red (kHz) | 2-180']\n",
    "\n",
    "df['Sg/Sr (prompt)_Burst'] = S_G/S_R"
   ]
  },
  {
   "cell_type": "markdown",
   "id": "8ad0df6e",
   "metadata": {},
   "source": [
    "# Plot Various Burtwise MFD"
   ]
  },
  {
   "cell_type": "markdown",
   "id": "1c0d373a-4805-43b5-92e0-de91e123e8e6",
   "metadata": {},
   "source": [
    "#### Histogram over burst durations, Count Rate, Number of Photons"
   ]
  },
  {
   "cell_type": "markdown",
   "id": "21a65f42-7f56-4325-9441-8943fa22f7dc",
   "metadata": {},
   "source": [
    "Display the burst duration and determine the time window for the based on the mode (the most frequent burst duration) the "
   ]
  },
  {
   "cell_type": "code",
   "execution_count": 24,
   "id": "8b9650d9-edc6-4c6a-a3ce-4910dfc59cb3",
   "metadata": {},
   "outputs": [
    {
     "name": "stdout",
     "output_type": "stream",
     "text": [
      "Mean Duration 13.9 ms\n"
     ]
    },
    {
     "data": {
      "image/png": "[encoded data removed]",
      "text/plain": [
       "<Figure size 432x288 with 1 Axes>"
      ]
     },
     "metadata": {},
     "output_type": "display_data"
    }
   ],
   "source": [
    "plt.title('Bust duration')\n",
    "counts_bd, bins_bd, patches_bd =  plt.hist(df['Duration (ms)'], bins=np.linspace(0, 40, 41), log=False, rwidth=0.6, linewidth=1., edgecolor='black', fc=(0.1, 0.1, 0.1, 0.2))\n",
    "plt.xlabel('Duration (ms)')\n",
    "plt.ylabel('Counts')\n",
    "# Mean Duration\n",
    "number_of_tws_in_mode = 3\n",
    "mean_dur = counts_bd @ bins_bd[1:] / np.sum(counts_bd)\n",
    "minimum_window_length = (mean_dur / 1000.0) / number_of_tws_in_mode\n",
    "print(\"Mean Duration {:.1f} ms\".format(mean_dur))"
   ]
  },
  {
   "cell_type": "code",
   "execution_count": 27,
   "id": "4b93dcdd",
   "metadata": {},
   "outputs": [
    {
     "data": {
      "text/plain": [
       "Text(0, 0.5, 'Counts')"
      ]
     },
     "execution_count": 27,
     "metadata": {},
     "output_type": "execute_result"
    },
    {
     "data": {
      "image/png": "[encoded data removed]",
      "text/plain": [
       "<Figure size 432x288 with 1 Axes>"
      ]
     },
     "metadata": {},
     "output_type": "display_data"
    }
   ],
   "source": [
    "df['Tau (green)'] = df['Tau (green)'].astype(float) ## Convert To Float This columns did not convert co numeric see warning above\n",
    "plt.title('Tau_G Burstwise')\n",
    "counts_TG, bins_TG, patches_TG =  plt.hist(df['Tau (green)'], bins=np.linspace(0, 8, 41), log=False, rwidth=0.6, linewidth=1., edgecolor='black', fc=(0.1, 0.1, 0.1, 0.2))\n",
    "plt.xlabel('Tau (green)')\n",
    "plt.ylabel('Counts')"
   ]
  },
  {
   "cell_type": "code",
   "execution_count": 30,
   "id": "53b5c712",
   "metadata": {},
   "outputs": [
    {
     "data": {
      "image/png": "[encoded data removed]",
      "text/plain": [
       "<Figure size 432x288 with 2 Axes>"
      ]
     },
     "metadata": {},
     "output_type": "display_data"
    }
   ],
   "source": [
    "df['r Scatter (green)'] = df['r Scatter (green)'].astype(float) ## Convert To Float This columns did not convert co numeric see warning above\n",
    "\n",
    "\n",
    "[xmin, xmax], [ymin, ymax] = (0, 8), (-0.2, 0.6)\n",
    "vmin, vmax = 0.1, 41\n",
    "\n",
    "### Now you can get the figure, the axes, and the twodim data from make_plot.\n",
    "### Also, you can give the bin number for x and y using a dictionary.\n",
    "bins = {\"x\":41, \"y\": 41}\n",
    "fig, ax, twodimdata = tdh.make_plot(df['Tau (green)'], df['r Scatter (green)'], 'Lifetime (ns)','Anisotropy',\"auto\", 'auto', bins)"
   ]
  },
  {
   "cell_type": "code",
   "execution_count": 31,
   "id": "ba3afdde",
   "metadata": {},
   "outputs": [
    {
     "data": {
      "text/plain": [
       "Text(0, 0.5, 'Events')"
      ]
     },
     "execution_count": 31,
     "metadata": {},
     "output_type": "execute_result"
    },
    {
     "data": {
      "image/png": "[encoded data removed]",
      "text/plain": [
       "<Figure size 432x288 with 1 Axes>"
      ]
     },
     "metadata": {},
     "output_type": "display_data"
    }
   ],
   "source": [
    "plt.title('Sg/Sr (prompt)')\n",
    "counts_SgSr, bins_SgSr, patches_SgSr =  plt.hist(df['Sg/Sr (prompt)_Burst'], bins=np.logspace(np.log10(0.01), np.log10(185), 41), log=False, rwidth=0.6, linewidth=1., edgecolor='black', fc=(0.1, 0.1, 0.1, 0.2))\n",
    "plt.xscale('log')\n",
    "plt.xlabel('Sg/Sr (prompt)')\n",
    "plt.ylabel('Events')"
   ]
  },
  {
   "cell_type": "code",
   "execution_count": 32,
   "id": "cb2758cf",
   "metadata": {},
   "outputs": [
    {
     "data": {
      "text/plain": [
       "Text(0, 0.5, 'Events')"
      ]
     },
     "execution_count": 32,
     "metadata": {},
     "output_type": "execute_result"
    },
    {
     "data": {
      "image/png": "[encoded data removed]",
      "text/plain": [
       "<Figure size 432x288 with 1 Axes>"
      ]
     },
     "metadata": {},
     "output_type": "display_data"
    }
   ],
   "source": [
    "plt.title('Count Rate')\n",
    "counts_cr, bins_cr, patches_cr =  plt.hist(df['Count Rate (KHz)'], bins=np.linspace(0, 100, 41), log=False, rwidth=0.6, linewidth=1., edgecolor='black', fc=(0.1, 0.1, 0.1, 0.2))\n",
    "plt.xlabel('Count Rate (KHz)')\n",
    "plt.ylabel('Events')"
   ]
  },
  {
   "cell_type": "markdown",
   "id": "d184af99",
   "metadata": {},
   "source": [
    "## Calculate mean burst durations, Count Rate, Number of Photons"
   ]
  },
  {
   "cell_type": "code",
   "execution_count": 33,
   "id": "b6347340-6b04-49d0-ad43-925f7896f0ff",
   "metadata": {},
   "outputs": [
    {
     "name": "stdout",
     "output_type": "stream",
     "text": [
      "Mean Duration 13.9 ms\n",
      "Mean Count Rate 12.8 KHz\n",
      "Duration Time Window 2.340\n"
     ]
    }
   ],
   "source": [
    "# Mean Duration\n",
    "number_of_tws_in_mode = 3\n",
    "mean_dur = counts_bd @ bins_bd[1:] / np.sum(counts_bd)\n",
    "minimum_window_length = (mean_dur / 1000.0) / number_of_tws_in_mode\n",
    "print(\"Mean Duration {:.1f} ms\".format(mean_dur))\n",
    "\n",
    "# Mean Count Rate\n",
    "number_of_tws_in_mode = 3\n",
    "mean_cr = counts_cr @ bins_cr[1:] / np.sum(counts_cr)\n",
    "print(\"Mean Count Rate {:.1f} KHz\".format(mean_cr))\n",
    "\n",
    "# Mean Time for # Number of Photons\n",
    "number_of_photons_per_slice = 30 # Change this every run\n",
    "duration_tw = number_of_photons_per_slice/mean_cr\n",
    "print(\"Duration Time Window {:.3f}\".format(duration_tw))"
   ]
  },
  {
   "cell_type": "markdown",
   "id": "6655aa66-be10-4c5e-97fe-226228774202",
   "metadata": {},
   "source": [
    "# Compute mean and variance in bursts"
   ]
  },
  {
   "cell_type": "markdown",
   "id": "e8fbcddf-3137-418d-b366-cf42addc7895",
   "metadata": {},
   "source": [
    "### BVA over fixed number of photons"
   ]
  },
  {
   "cell_type": "markdown",
   "id": "e493fd71-a51b-4fee-8907-97196bc629f5",
   "metadata": {},
   "source": [
    "### Compute mean Anisotropy and variance for simulated static species"
   ]
  },
  {
   "cell_type": "code",
   "execution_count": 34,
   "id": "992cb254",
   "metadata": {},
   "outputs": [
    {
     "name": "stdout",
     "output_type": "stream",
     "text": [
      "30\n"
     ]
    }
   ],
   "source": [
    "print(number_of_photons_per_slice)"
   ]
  },
  {
   "cell_type": "markdown",
   "id": "bce2ab63",
   "metadata": {},
   "source": [
    "### Plot 2D BVA"
   ]
  },
  {
   "cell_type": "code",
   "execution_count": 35,
   "id": "07f40602",
   "metadata": {},
   "outputs": [
    {
     "name": "stderr",
     "output_type": "stream",
     "text": [
      "100%|██████████| 5038/5038 [00:11<00:00, 433.08it/s]\n"
     ]
    },
    {
     "data": {
      "image/png": "[encoded data removed]",
      "text/plain": [
       "<Figure size 432x288 with 1 Axes>"
      ]
     },
     "metadata": {},
     "output_type": "display_data"
    }
   ],
   "source": [
    "###########################################\n",
    "###       Compute BVA Anisotropy        ###\n",
    "###########################################\n",
    "compute_bva_anisotropy_mean_std(df, number_of_photons_per_slice=number_of_photons_per_slice)\n",
    "#df_selected = df[df['Anisotropy Std'] > 0.0]\n",
    "[xmin, xmax], [ymin, ymax] = (-0.2, 0.6), (0, 1)\n",
    "vmin, vmax = 0.1, 30\n",
    "counts, rs_mean_bins, rs_sd_bins, _ = plt.hist2d(df['Anisotropy Mean'], df['Anisotropy Std']**2, range=[[xmin, xmax], [ymin, ymax]], bins=(41, 41), vmin=vmin, vmax=vmax)"
   ]
  },
  {
   "cell_type": "markdown",
   "id": "b4732dcc",
   "metadata": {},
   "source": [
    "### Make Final Plot and Export"
   ]
  },
  {
   "cell_type": "code",
   "execution_count": 42,
   "id": "97953b90",
   "metadata": {},
   "outputs": [
    {
     "ename": "ValueError",
     "evalue": "too many values to unpack (expected 2)",
     "output_type": "error",
     "traceback": [
      "Traceback \u001b[1;36m(most recent call last)\u001b[0m:\n",
      "\u001b[1;36m  Cell \u001b[1;32mIn[42], line 7\u001b[1;36m\n\u001b[1;33m    nx, ny = tdh.make_plot(x, y, 'Anisotropy (rs)', 'Excess Variance rs, SD(rs)^2', {\"min\": -0.2, \"max\": 0.6}, {\"min\": 0.0, \"max\": 1.0}, bins)\u001b[1;36m\n",
      "\u001b[1;31mValueError\u001b[0m\u001b[1;31m:\u001b[0m too many values to unpack (expected 2)\n"
     ]
    },
    {
     "data": {
      "image/png": "[encoded data removed]",
      "text/plain": [
       "<Figure size 432x288 with 2 Axes>"
      ]
     },
     "metadata": {},
     "output_type": "display_data"
    }
   ],
   "source": [
    "[xmin, xmax], [ymin, ymax] = (-0.2, 0.6), (0, 1)\n",
    "bins = {'x':41, 'y':41}\n",
    "vmin, vmax = 0.1, 30\n",
    "x = df['Anisotropy Mean']\n",
    "#y = df['Anisotropy Std']**2 # All variance\n",
    "y = df['Anisotropy Std']**2-(df['Anisotropy Mean']*(1-df['Anisotropy Mean'])/number_of_photons_per_slice) # Excess Varaiance S^2 = s^2 - sigma^2, where sigma^2 = E(1-E)/m\n",
    "nx, ny = tdh.make_plot(x, y, 'Anisotropy (rs)', 'Excess Variance rs, SD(rs)^2', {\"min\": -0.2, \"max\": 0.6}, {\"min\": 0.0, \"max\": 1.0}, bins)"
   ]
  },
  {
   "cell_type": "code",
   "execution_count": null,
   "id": "0f368299",
   "metadata": {},
   "outputs": [],
   "source": [
    "## Save files\n",
    "countsdf = pd.DataFrame(counts)\n",
    "countsdf.to_csv(str(file_path) + '/counts_' + str(number_of_photons_per_slice) + '_photons' + '.csv')\n",
    "\n",
    "nxdf = pd.DataFrame(nx)\n",
    "nxdf.to_csv(str(file_path) + '/nx_' + str(number_of_photons_per_slice) + '_photons' + '.csv')\n",
    "\n",
    "nydf = pd.DataFrame(ny)\n",
    "nydf.to_csv(str(file_path) + '/ny_' + str(number_of_photons_per_slice) + '_photons' + '.csv')\n",
    "\n",
    "nmean_xdf = pd.DataFrame(x_mean)\n",
    "nmean_xdf.to_csv(str(file_path) + '/meanE_' + str(number_of_photons_per_slice) + '_photons' + '.csv')\n",
    "\n",
    "nmean_ydf = pd.DataFrame(y_mean)\n",
    "nmean_ydf.to_csv(str(file_path) + '/meanvar_' + str(number_of_photons_per_slice) + '_photons' +'.csv')\n",
    "\n",
    "nerr_ydf = pd.DataFrame(yerr)\n",
    "nerr_ydf.to_csv(str(file_path) + '/errvar_' + str(number_of_photons_per_slice) + '_photons'+ '.csv')"
   ]
  },
  {
   "cell_type": "code",
   "execution_count": null,
   "id": "9cac09be-be17-4494-9186-467a68517e2b",
   "metadata": {},
   "outputs": [],
   "source": []
  }
 ],
 "metadata": {
  "kernelspec": {
   "display_name": "Python 3 (Spyder)",
   "language": "python3",
   "name": "python3"
  },
  "language_info": {
   "codemirror_mode": {
    "name": "ipython",
    "version": 3
   },
   "file_extension": ".py",
   "mimetype": "text/x-python",
   "name": "python",
   "nbconvert_exporter": "python",
   "pygments_lexer": "ipython3",
   "version": "3.11.5"
  }
 },
 "nbformat": 4,
 "nbformat_minor": 5
}
