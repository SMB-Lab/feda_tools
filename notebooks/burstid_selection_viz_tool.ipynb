{
 "cells": [
  {
   "cell_type": "code",
   "execution_count": 2,
   "id": "3052ae27-0a40-4d08-b145-f84eb89e1f26",
   "metadata": {},
   "outputs": [],
   "source": [
    "from typing import Dict, List, Tuple\n",
    "\n",
    "import tqdm\n",
    "\n",
    "import numpy as np\n",
    "import pandas as pd\n",
    "\n",
    "import scipy\n",
    "import scipy.stats\n",
    "\n",
    "import seaborn as sns\n",
    "import matplotlib.pyplot as plt\n",
    "\n",
    "import pathlib\n",
    "import tttrlib\n",
    "\n",
    "import os\n",
    "\n",
    "from feda_tools import twodim_hist as tdh\n",
    "from feda_tools import utilities as utils\n",
    "from feda_tools import analysis as an\n",
    "\n",
    "from decimal import Decimal, getcontext\n",
    "\n",
    "import numpy.ma as ma\n",
    "from scipy.stats import norm\n",
    "from scipy.stats import halfnorm"
   ]
  },
  {
   "cell_type": "code",
   "execution_count": 3,
   "id": "56416358-d044-42cf-acff-e49b575d19f9",
   "metadata": {},
   "outputs": [],
   "source": [
    "# Load PTU Files\n",
    "# file_path = pathlib.Path('//130.127.188.19/projects/FoxP_FKH-DNA/20220314_FoxP1_data_all_NK/20220310_V78C_monomer_NK/V78C_monomer_FoxP1_1hr/burstwise_All 0.2027#30')\n",
    "# bid_path = pathlib.Path('//130.127.188.19/projects/FoxP_FKH-DNA/20220314_FoxP1_data_all_NK/20220310_V78C_monomer_NK/V78C_monomer_FoxP1_1hr/burstwise_All 0.2027#30/BIDs_30ph')\n",
    "\n",
    "### for testing purposes ###\n",
    "file_path = pathlib.Path('C:/Users/2administrator/Documents/source/repos/feda_tools/test data/2022/03_02_22_Troubleshooting_detection_efficiencies/Combined_old_thresholds/Split_After_Adjust_HF_54000s_pinhole6-000000.ptu')\n",
    "\n",
    "#total time 816.9 seconds for this file\n",
    "file_p ='C:/Users/2administrator/Documents/source/repos/feda_tools/test data/2022/03_02_22_Troubleshooting_detection_efficiencies/Combined_old_thresholds/Split_After_Adjust_HF_54000s_pinhole6-000000.ptu'"
   ]
  },
  {
   "cell_type": "code",
   "execution_count": 4,
   "id": "0bf7205d-e2f0-42bd-92a1-916a43bf2eec",
   "metadata": {},
   "outputs": [],
   "source": [
    "data = tttrlib.TTTR(file_p, 'PTU')"
   ]
  },
  {
   "cell_type": "code",
   "execution_count": 5,
   "id": "a61e105e-2c93-46bb-a2c2-6b723ecda35c",
   "metadata": {},
   "outputs": [],
   "source": [
    "all_macro_times = data.macro_times\n",
    "all_micro_times = data.micro_times\n",
    "routing_channels = data.routing_channels"
   ]
  },
  {
   "cell_type": "code",
   "execution_count": 6,
   "id": "6096b139-3c47-4282-b817-8f06fffe4346",
   "metadata": {},
   "outputs": [],
   "source": [
    "#in seconds. usually the first plots are in ms to see the bursts.\n",
    "macro_res =data.get_header().macro_time_resolution"
   ]
  },
  {
   "cell_type": "code",
   "execution_count": 7,
   "id": "23de86d7-f4ae-45a4-818b-41336ce7b1ae",
   "metadata": {},
   "outputs": [],
   "source": [
    "micro_res = data.get_header().micro_time_resolution"
   ]
  },
  {
   "cell_type": "code",
   "execution_count": 8,
   "id": "48e6c51c-a284-49fc-a41f-04b03dc3f5b8",
   "metadata": {},
   "outputs": [],
   "source": [
    "#iterate through macro and micro times to calculate delta time between photon events\n",
    "arr_size = len(all_macro_times) - 1\n",
    "photon_time_intervals = np.zeros(arr_size, dtype = np.float64)\n",
    "lw = 0.25\n",
    "for i in range(0, len(photon_time_intervals)):\n",
    "    photon_1 = (all_macro_times[i]*macro_res) + (all_micro_times[i]*micro_res)\n",
    "    photon_2 = (all_macro_times[i+1]*macro_res) + (all_micro_times[i+1]*micro_res)\n",
    "    photon_time_intervals[i] = (photon_2 - photon_1)*1000\n",
    "\n",
    "# create photon ID array\n",
    "photon_ids = np.arange(1, arr_size + 1)\n"
   ]
  },
  {
   "cell_type": "code",
   "execution_count": 9,
   "id": "01fb470b-fc0e-49f6-98e5-6d16f39467f1",
   "metadata": {},
   "outputs": [
    {
     "name": "stdout",
     "output_type": "stream",
     "text": [
      "2.3073616332567326\n"
     ]
    }
   ],
   "source": [
    "print(photon_time_intervals[-1])"
   ]
  },
  {
   "cell_type": "code",
   "execution_count": 10,
   "id": "d38e86b8-8598-443e-83b6-561d1fd0b157",
   "metadata": {},
   "outputs": [],
   "source": [
    "# plot interactive\n",
    "%matplotlib qt\n",
    "\n",
    "# raw data, no running average\n",
    "plt.plot(photon_ids, np.log(photon_time_intervals), linewidth = 0.25)\n",
    "plt.xlim(0, 91000)\n",
    "plt.show()"
   ]
  },
  {
   "cell_type": "code",
   "execution_count": 11,
   "id": "10148b92-bbb6-4c80-a1ca-d333d33c4eb8",
   "metadata": {},
   "outputs": [],
   "source": [
    "# Calculate the running average\n",
    "cumulative_sum = np.cumsum(photon_time_intervals)\n",
    "running_average = cumulative_sum / np.arange(1, len(photon_time_intervals) + 1)"
   ]
  },
  {
   "cell_type": "code",
   "execution_count": 12,
   "id": "1cc61a1d-c404-442c-9c74-4029fe39164a",
   "metadata": {},
   "outputs": [
    {
     "data": {
      "text/plain": [
       "[<matplotlib.lines.Line2D at 0x1e405e294d0>]"
      ]
     },
     "execution_count": 12,
     "metadata": {},
     "output_type": "execute_result"
    }
   ],
   "source": [
    "plt.plot(photon_ids, running_average)"
   ]
  },
  {
   "cell_type": "code",
   "execution_count": 13,
   "id": "8a02b49a-8a02-49a7-b0f7-84055deb7960",
   "metadata": {},
   "outputs": [],
   "source": [
    "def running_average(data, window_size):\n",
    "    window = np.ones(window_size) / window_size\n",
    "    return np.convolve(data, window, mode='valid')\n",
    "\n",
    "# Create a NumPy array\n",
    "data = photon_time_intervals\n",
    "\n",
    "# Set the window size for the running average\n",
    "window_size = 30\n",
    "\n",
    "# Calculate the running average\n",
    "running_avg = running_average(data, window_size)\n",
    "\n"
   ]
  },
  {
   "cell_type": "code",
   "execution_count": 14,
   "id": "f4625dea-483e-47b1-9d90-ea31924d5313",
   "metadata": {},
   "outputs": [],
   "source": [
    "# Plot the running average\n",
    "# plt.plot(data, label='Original Data')\n",
    "lw = 0.25\n",
    "xarr = np.arange(window_size - 1, len(data))\n",
    "logrunavg = np.log(running_avg)\n",
    "plt.plot(xarr, logrunavg, label='Running Average', linewidth = lw)\n",
    "plt.xlabel('Index')\n",
    "plt.ylabel('Value')\n",
    "plt.legend()\n",
    "plt.xlim(0, 91000)\n",
    "plt.show()"
   ]
  },
  {
   "cell_type": "code",
   "execution_count": 15,
   "id": "6836af45-ca6c-4d31-b625-06212e102805",
   "metadata": {},
   "outputs": [],
   "source": [
    "# plot the running average as a 2D histogram with 1D histograms on the margins\n",
    "\n",
    "bins = {\"x\":141, \"y\": 141}\n",
    "xrange = {\"min\" : 0, \"max\" : 91000}\n",
    "yrange = {\"min\" : -6, \"max\" : 2}\n",
    "fig, ax, twodimdata = tdh.make_plot(xarr, logrunavg, \"x\", \"y\",xrange ,yrange, bins)"
   ]
  },
  {
   "cell_type": "code",
   "execution_count": 16,
   "id": "43ee0bf9-aeec-493d-80a5-7cae1bd24a77",
   "metadata": {},
   "outputs": [],
   "source": [
    "\n",
    "# set the threshold based on visual inspection\n",
    "threshold_value = -.34\n",
    "\n",
    "# compress the filtered data to remove the masked values\n",
    "filtered_logrunavg = ma.masked_less(logrunavg, threshold_value).compressed()\n",
    "\n",
    "# Set all masked values to zero\n",
    "counts_logrunavg, bins_logrunavg, _ = plt.hist(logrunavg, bins = bins['y'], alpha=0.6, color='r')\n",
    "plt.hist(filtered_logrunavg, bins = bins_logrunavg, alpha=0.6, color='b')\n",
    "plt.show()"
   ]
  },
  {
   "cell_type": "code",
   "execution_count": 22,
   "id": "afeac049-a791-4845-b63b-394cdbdd0467",
   "metadata": {},
   "outputs": [],
   "source": [
    "# fit with halfnorm\n",
    "mu, std = halfnorm.fit(filtered_logrunavg)\n",
    "\n",
    "# counts_logrunavg, bins_logrunavg, _ = plt.hist(logrunavg, bins = bins['y'], density= True, alpha=0.6, color='r')\n",
    "plt.hist(filtered_logrunavg, bins = bins['y'], density = True, alpha=0.6, color='r')\n",
    "\n",
    "# Plot the PDF.\n",
    "xmin, xmax = plt.xlim()\n",
    "x = np.linspace(xmin, xmax, 100)\n",
    "p = halfnorm.pdf(x, mu, std)\n",
    "\n",
    "plt.plot(x, p, 'k', linewidth=2)\n",
    "title = \"Fit Values: {:.2f} and {:.2f}\".format(mu, std)\n",
    "plt.title(title)\n",
    "\n",
    "# Display the plot\n",
    "plt.show()"
   ]
  },
  {
   "cell_type": "code",
   "execution_count": 23,
   "id": "30c2ab99-bc54-4a48-9415-d958b6a41db1",
   "metadata": {},
   "outputs": [],
   "source": [
    "# select photon events that are less likely to be noise based on analysis in previous cell\n",
    "threshold_value = mu - 2*std\n",
    "filtered_values = ma.masked_greater(logrunavg, threshold_value)"
   ]
  },
  {
   "cell_type": "code",
   "execution_count": 24,
   "id": "fb557882-5c02-4f69-a58f-1a4a98742716",
   "metadata": {},
   "outputs": [],
   "source": [
    "# Plot the running average and the threshold values\n",
    "\n",
    "# plt.plot(xarr, logrunavg, label='Running Average', linewidth = lw)\n",
    "plt.plot(xarr, logrunavg, label='Running Average', linestyle='None', marker = 'o', markersize = 5)\n",
    "plt.plot(xarr, filtered_values, label='Threshold Values', linestyle='None', marker = '.', markersize = 5)\n",
    "plt.xlabel('Photon Event #')\n",
    "plt.ylabel('log(Photon Interval Time)')\n",
    "plt.legend()\n",
    "plt.xlim(0, 91000)\n",
    "plt.show()"
   ]
  },
  {
   "cell_type": "code",
   "execution_count": 48,
   "id": "921c30b5-1b0e-451e-a9d4-4268923e7ea6",
   "metadata": {},
   "outputs": [],
   "source": [
    "### define function for extracting the unmasked segments from the thresholded data.\n",
    "def extract_unmasked_indices(masked_array):\n",
    "    unmasked_indices_lists = []\n",
    "    current_indices = []\n",
    "\n",
    "    # iterate through masked array and collect unmasked index segments\n",
    "    for i, value in enumerate(masked_array):\n",
    "        if np.ma.is_masked(value):\n",
    "            if current_indices:\n",
    "                unmasked_indices_lists.append(current_indices)\n",
    "                current_indices = []\n",
    "        else:\n",
    "            current_indices.append(i)\n",
    "\n",
    "    # handle the last segment\n",
    "    if current_indices:\n",
    "        unmasked_indices_lists.append(current_indices)\n",
    "\n",
    "    return unmasked_indices_lists"
   ]
  },
  {
   "cell_type": "code",
   "execution_count": 50,
   "id": "87a38c84-e5dc-47aa-9723-0a019de722f0",
   "metadata": {},
   "outputs": [],
   "source": [
    "### Get a burst index. Each list is a burst, and each list contains the indices of \n",
    "### the photon events in the original data.\n",
    "burst_index = extract_unmasked_indices(filtered_values)"
   ]
  },
  {
   "cell_type": "code",
   "execution_count": 59,
   "id": "d55e24a3-1a57-4eff-bc86-3d6bd18c05c2",
   "metadata": {},
   "outputs": [],
   "source": [
    "### Duration calc\n",
    "lp_time = all_macro_times[burst_index[0][-1]] + all_micro_times[[0][-1]]\n",
    "fp_time = all_macro_times[burst_index[0][0]] + all_micro_times[[0][0]]"
   ]
  },
  {
   "cell_type": "code",
   "execution_count": null,
   "id": "25515da3-4d8e-4416-87ff-582482816a72",
   "metadata": {},
   "outputs": [],
   "source": []
  }
 ],
 "metadata": {
  "kernelspec": {
   "display_name": "Python 3 (Spyder)",
   "language": "python3",
   "name": "python3"
  },
  "language_info": {
   "codemirror_mode": {
    "name": "ipython",
    "version": 3
   },
   "file_extension": ".py",
   "mimetype": "text/x-python",
   "name": "python",
   "nbconvert_exporter": "python",
   "pygments_lexer": "ipython3",
   "version": "3.11.5"
  }
 },
 "nbformat": 4,
 "nbformat_minor": 5
}
