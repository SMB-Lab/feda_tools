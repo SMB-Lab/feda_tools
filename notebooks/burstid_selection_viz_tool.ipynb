{
 "cells": [
  {
   "cell_type": "markdown",
   "id": "7bf0902c-cc14-4ae0-9dc3-0fa7c2491a8d",
   "metadata": {},
   "source": [
    "## Import required packages"
   ]
  },
  {
   "cell_type": "code",
   "execution_count": 1,
   "id": "3052ae27-0a40-4d08-b145-f84eb89e1f26",
   "metadata": {},
   "outputs": [
    {
     "ename": "ModuleNotFoundError",
     "evalue": "No module named 'PyQt5'",
     "output_type": "error",
     "traceback": [
      "\u001b[0;31m---------------------------------------------------------------------------\u001b[0m",
      "\u001b[0;31mModuleNotFoundError\u001b[0m                       Traceback (most recent call last)",
      "Cell \u001b[0;32mIn[1], line 22\u001b[0m\n\u001b[1;32m     20\u001b[0m \u001b[38;5;28;01mfrom\u001b[39;00m \u001b[38;5;21;01mfeda_tools\u001b[39;00m \u001b[38;5;28;01mimport\u001b[39;00m utilities \u001b[38;5;28;01mas\u001b[39;00m utils\n\u001b[1;32m     21\u001b[0m \u001b[38;5;28;01mfrom\u001b[39;00m \u001b[38;5;21;01mfeda_tools\u001b[39;00m \u001b[38;5;28;01mimport\u001b[39;00m analysis \u001b[38;5;28;01mas\u001b[39;00m an\n\u001b[0;32m---> 22\u001b[0m \u001b[38;5;28;01mfrom\u001b[39;00m \u001b[38;5;21;01mfeda_tools\u001b[39;00m \u001b[38;5;28;01mimport\u001b[39;00m fileselector \u001b[38;5;28;01mas\u001b[39;00m fs\n\u001b[1;32m     24\u001b[0m \u001b[38;5;28;01mfrom\u001b[39;00m \u001b[38;5;21;01mdecimal\u001b[39;00m \u001b[38;5;28;01mimport\u001b[39;00m Decimal, getcontext\n\u001b[1;32m     26\u001b[0m \u001b[38;5;28;01mimport\u001b[39;00m \u001b[38;5;21;01mnumpy\u001b[39;00m\u001b[38;5;21;01m.\u001b[39;00m\u001b[38;5;21;01mma\u001b[39;00m \u001b[38;5;28;01mas\u001b[39;00m \u001b[38;5;21;01mma\u001b[39;00m\n",
      "File \u001b[0;32m~/micromamba/envs/physics-64/lib/python3.11/site-packages/feda_tools-1.0-py3.11.egg/feda_tools/fileselector.py:11\u001b[0m\n\u001b[1;32m      9\u001b[0m \u001b[38;5;28;01mfrom\u001b[39;00m \u001b[38;5;21;01msys\u001b[39;00m \u001b[38;5;28;01mimport\u001b[39;00m executable, argv\n\u001b[1;32m     10\u001b[0m \u001b[38;5;28;01mfrom\u001b[39;00m \u001b[38;5;21;01msubprocess\u001b[39;00m \u001b[38;5;28;01mimport\u001b[39;00m check_output\n\u001b[0;32m---> 11\u001b[0m \u001b[38;5;28;01mfrom\u001b[39;00m \u001b[38;5;21;01mPyQt5\u001b[39;00m\u001b[38;5;21;01m.\u001b[39;00m\u001b[38;5;21;01mQtWidgets\u001b[39;00m \u001b[38;5;28;01mimport\u001b[39;00m QFileDialog, QApplication\n\u001b[1;32m     13\u001b[0m \u001b[38;5;28;01mdef\u001b[39;00m \u001b[38;5;21mgui_fname\u001b[39m(directory\u001b[38;5;241m=\u001b[39m\u001b[38;5;124m'\u001b[39m\u001b[38;5;124m./\u001b[39m\u001b[38;5;124m'\u001b[39m):\n\u001b[1;32m     14\u001b[0m \u001b[38;5;250m    \u001b[39m\u001b[38;5;124;03m\"\"\"Open a file dialog, starting in the given directory, and return\u001b[39;00m\n\u001b[1;32m     15\u001b[0m \u001b[38;5;124;03m    the chosen filenames\"\"\"\u001b[39;00m\n",
      "\u001b[0;31mModuleNotFoundError\u001b[0m: No module named 'PyQt5'"
     ]
    }
   ],
   "source": [
    "from typing import Dict, List, Tuple\n",
    "\n",
    "import tqdm\n",
    "\n",
    "import numpy as np\n",
    "import pandas as pd\n",
    "\n",
    "import scipy\n",
    "import scipy.stats\n",
    "\n",
    "import seaborn as sns\n",
    "import matplotlib.pyplot as plt\n",
    "\n",
    "import pathlib\n",
    "import tttrlib\n",
    "\n",
    "import os\n",
    "\n",
    "from feda_tools import twodim_hist as tdh\n",
    "from feda_tools import utilities as utils\n",
    "from feda_tools import analysis as an\n",
    "from feda_tools import fileselector as fs\n",
    "\n",
    "from decimal import Decimal, getcontext\n",
    "\n",
    "import numpy.ma as ma\n",
    "from scipy.stats import norm\n",
    "from scipy.stats import halfnorm\n",
    "\n",
    "import pickle"
   ]
  },
  {
   "cell_type": "markdown",
   "id": "ad15b425-cdea-4f49-9141-974fccc68131",
   "metadata": {},
   "source": [
    "## Load the target PTU file\n",
    "\n",
    "-  Run the next cell to be prompted to select your files.\n"
   ]
  },
  {
   "cell_type": "code",
   "execution_count": 28,
   "id": "bb96f0f4-4669-44a6-9274-54df8d4a5c41",
   "metadata": {},
   "outputs": [],
   "source": [
    "ptu_files = fs.gui_fname()\n",
    "ptu_files.sort()"
   ]
  },
  {
   "cell_type": "code",
   "execution_count": 13,
   "id": "8d38e020-b770-49c7-8247-dbe675998f8d",
   "metadata": {
    "jupyter": {
     "source_hidden": true
    }
   },
   "outputs": [
    {
     "name": "stdout",
     "output_type": "stream",
     "text": [
      "The path exists.\n"
     ]
    }
   ],
   "source": [
    "# Don't run this, for testing purposes only.\n",
    "\n",
    "# Absolute path to the repository\n",
    "repo_path = '/Users/frankie/Documents/source/repos/feda_tools/'\n",
    "# get all PTU files in the target directory.\n",
    "dir = repo_path + '/test data/2022/03_02_22_Troubleshooting_detection_efficiencies/Combined_old_thresholds/'\n",
    "ptu_files = utils.get_ptu_files(dir)\n",
    "ptu_files.sort()\n",
    "file_ptu = ptu_files[0]\n",
    "# file_irf = dir + 'H2O_300s_adjust_thresholds.ptu'\n",
    "# file_bkg = dir + 'PBS_300s_adjust_thresholds.ptu'\n",
    "\n",
    "if pathlib.Path(dir+file_ptu).exists():\n",
    "    print(\"The path exists.\")\n",
    "else:\n",
    "    print(\"The path does not exist.\")\n"
   ]
  },
  {
   "cell_type": "markdown",
   "id": "b8c37af5-7223-4a4f-b10e-0eacfb495a03",
   "metadata": {},
   "source": [
    "## Initialize tttrlib data and extract important global data"
   ]
  },
  {
   "cell_type": "code",
   "execution_count": 2,
   "id": "0bf7205d-e2f0-42bd-92a1-916a43bf2eec",
   "metadata": {},
   "outputs": [
    {
     "ename": "NameError",
     "evalue": "name 'ptu_files' is not defined",
     "output_type": "error",
     "traceback": [
      "\u001b[0;31m---------------------------------------------------------------------------\u001b[0m",
      "\u001b[0;31mNameError\u001b[0m                                 Traceback (most recent call last)",
      "Cell \u001b[0;32mIn[2], line 6\u001b[0m\n\u001b[1;32m      3\u001b[0m max_event \u001b[38;5;241m=\u001b[39m \u001b[38;5;241m300000\u001b[39m\n\u001b[1;32m      5\u001b[0m \u001b[38;5;66;03m# data_ptu = tttrlib.TTTR(dir + file_ptu, 'PTU')\u001b[39;00m\n\u001b[0;32m----> 6\u001b[0m data_ptu \u001b[38;5;241m=\u001b[39m tttrlib\u001b[38;5;241m.\u001b[39mTTTR(\u001b[43mptu_files\u001b[49m[\u001b[38;5;241m0\u001b[39m], \u001b[38;5;124m'\u001b[39m\u001b[38;5;124mPTU\u001b[39m\u001b[38;5;124m'\u001b[39m)\n\u001b[1;32m      7\u001b[0m routing_channels \u001b[38;5;241m=\u001b[39m  data_ptu\u001b[38;5;241m.\u001b[39mrouting_channels\n\u001b[1;32m      9\u001b[0m \u001b[38;5;66;03m# total duration in seconds\u001b[39;00m\n",
      "\u001b[0;31mNameError\u001b[0m: name 'ptu_files' is not defined"
     ]
    }
   ],
   "source": [
    "# define analysis window for subset of PTU\n",
    "min_event = 0\n",
    "max_event = 300000\n",
    "\n",
    "# data_ptu = tttrlib.TTTR(dir + file_ptu, 'PTU')\n",
    "data_ptu = tttrlib.TTTR(ptu_files[0], 'PTU')\n",
    "routing_channels =  data_ptu.routing_channels\n",
    "\n",
    "# total duration in seconds\n",
    "all_macro_times = data_ptu.macro_times\n",
    "micro_res = data_ptu.get_header().micro_time_resolution\n",
    "macro_res =data_ptu.get_header().macro_time_resolution\n",
    "total_duration = all_macro_times[-1] * macro_res"
   ]
  },
  {
   "cell_type": "markdown",
   "id": "623fe224-8caf-46a3-9a0d-532345adaab1",
   "metadata": {},
   "source": [
    "## Determine analysis settings for bur, bg4, by4, and br4 calculations."
   ]
  },
  {
   "cell_type": "code",
   "execution_count": 5,
   "id": "681c0cfe-13f2-4e14-9e37-a3183b60673c",
   "metadata": {},
   "outputs": [],
   "source": [
    "# photon count threshold for burst selection\n",
    "min_photon_count = 60\n",
    "\n",
    "# MLE parameters\n",
    "num_bins = 128\n",
    "bin_width = macro_res/micro_res/num_bins/1000 # in nanoseconds"
   ]
  },
  {
   "cell_type": "markdown",
   "id": "e6e4b2f2-15a8-4f05-9bd5-000d6edeaf5b",
   "metadata": {},
   "source": [
    "## Burst Selection: Calculate Interphoton Arrival Time \n",
    "\n",
    "- Each detected photon has a time of detection encoded by the macro time + the micro time. **all_macro_times** and **all_micro_times** are arrays whose index is represents the detected photons in order of detection, while the value represents the associated macro or micro time for each photon.\n",
    "- **macro_res** and **micro_res** represent the resolution of the macro and micro times in seconds.\n",
    "- The **macro time** indicates the time in units of **macro_res** that the excitation laser was last fired directly before this photon was detected.\n",
    "- The **micro time** indicates the amount of time in units of **micro_res** that has elapsed since the excitation laser was last fired at which the photon was detected, i.e. it's the amount of time elapsed from the macro time at which the photon was detected.\n",
    "- The interphoton arrival time is calculated by iterating through **all_macro_times** and **all_micro_times** and calculating the time elapsed between each photon detection event."
   ]
  },
  {
   "cell_type": "code",
   "execution_count": 6,
   "id": "830cd919-50e6-4812-80cc-618ebbd8b270",
   "metadata": {},
   "outputs": [],
   "source": [
    "photon_time_intervals = an.calc_interphoton_arrival_times(data_ptu)"
   ]
  },
  {
   "cell_type": "code",
   "execution_count": 7,
   "id": "20dfecc0-5424-4b37-ae8e-2570935704a6",
   "metadata": {},
   "outputs": [
    {
     "name": "stdout",
     "output_type": "stream",
     "text": [
      "0.4766245069731667\n"
     ]
    }
   ],
   "source": [
    "print(photon_time_intervals[-1])"
   ]
  },
  {
   "cell_type": "markdown",
   "id": "a0016ec6-6c36-498d-a6b4-a2e2f1410c95",
   "metadata": {},
   "source": [
    "## Burst Selection: Calculate the Log of the Running Average"
   ]
  },
  {
   "cell_type": "code",
   "execution_count": 8,
   "id": "8a02b49a-8a02-49a7-b0f7-84055deb7960",
   "metadata": {},
   "outputs": [],
   "source": [
    "# Set the window size for the running average\n",
    "window_size = 30\n",
    "\n",
    "# Calculate the running average\n",
    "running_avg = an.calc_running_average(photon_time_intervals, window_size)\n",
    "\n",
    "# Create x axis array to match the data.\n",
    "xarr = np.arange(window_size - 1, len(photon_time_intervals))\n",
    "\n",
    "# Calculate the base 10 log of the running average\n",
    "logrunavg = np.log10(running_avg)"
   ]
  },
  {
   "cell_type": "markdown",
   "id": "c96a3ff9-882b-4153-b8b1-90f035c2113f",
   "metadata": {},
   "source": [
    "## Burst Selection: Visualize the Photon Events with an Interactive Plot"
   ]
  },
  {
   "cell_type": "code",
   "execution_count": 24,
   "id": "6836af45-ca6c-4d31-b625-06212e102805",
   "metadata": {},
   "outputs": [],
   "source": [
    "# plot the running average as a 2D histogram with 1D histograms on the margins\n",
    "%matplotlib qt\n",
    "bins = {\"x\":141, \"y\": 141}\n",
    "xrange = {\"min\" : min_event, \"max\" : max_event}\n",
    "yrange = {\"min\" : -6, \"max\" : 2}\n",
    "fig, ax, twodimdata = tdh.make_plot(xarr, logrunavg, \"Photon Event #\",r\"$\\Delta T_{photon events}$\" ,xrange ,yrange, bins)"
   ]
  },
  {
   "cell_type": "markdown",
   "id": "0bfcc7ee-060e-4ef7-b9bd-b3fdfd77e4d6",
   "metadata": {},
   "source": [
    "## Burst Selection: Estimate the Mean of the Gaussian Background Noise \n",
    "\n",
    "\n",
    "Check that the mean is estimated well by the max counts. The data on the right-half (blue/purple) estimates the right half of the Gaussian noise. The left-most bin of the right-half data is the estimated mean. When the estimated mean is well aligned with the peak, then you may continue to the next step."
   ]
  },
  {
   "cell_type": "code",
   "execution_count": 23,
   "id": "43ee0bf9-aeec-493d-80a5-7cae1bd24a77",
   "metadata": {},
   "outputs": [],
   "source": [
    "# Bin the log of the running avg interphoton arrival times to find the overall data profile.\n",
    "counts_logrunavg, bins_logrunavg = np.histogram(logrunavg, bins = bins['y'])\n",
    "\n",
    "# Find the index of the maximum counts value.\n",
    "index_of_max = np.argmax(counts_logrunavg)\n",
    "\n",
    "# Use the index of the max counts to find the corresponding interphoton time bin.\n",
    "mean_est = bins_logrunavg[index_of_max]\n",
    "\n",
    "# Compress the filtered data to remove the masked values for plotting\n",
    "filtered_logrunavg = ma.masked_less(logrunavg, mean_est).compressed()\n",
    "\n",
    "# Plot to inspect the result\n",
    "counts_logrunavg, bins_logrunavg, _ = plt.hist(logrunavg, bins = bins['y'], alpha=0.6, color='r')\n",
    "plt.hist(filtered_logrunavg, bins = bins_logrunavg, alpha=0.6, color='b')\n",
    "plt.xlabel(r\"$\\Delta T_{photon events}$\")\n",
    "plt.ylabel(\"Photon Event Counts\")\n",
    "plt.show()"
   ]
  },
  {
   "cell_type": "markdown",
   "id": "b173206f-be3a-4cc9-8035-9964df3d1f8d",
   "metadata": {},
   "source": [
    "## Burst Selection: Fit a Half-Norm to the Right Tail of the Data and Extract the Std. Dev."
   ]
  },
  {
   "cell_type": "code",
   "execution_count": 19,
   "id": "afeac049-a791-4845-b63b-394cdbdd0467",
   "metadata": {},
   "outputs": [],
   "source": [
    "# fit with halfnorm. visualize for best fit testing. get mu and std dev. consider finding max and setting location as mean\n",
    "mu, std = halfnorm.fit(filtered_logrunavg)\n",
    "\n",
    "# counts_logrunavg, bins_logrunavg, _ = plt.hist(logrunavg, bins = bins['y'], density= True, alpha=0.6, color='r')\n",
    "plt.hist(filtered_logrunavg, bins = bins['y'], density = True, alpha=0.6, color='r')\n",
    "\n",
    "# Plot the PDF.\n",
    "xmin, xmax = plt.xlim()\n",
    "x = np.linspace(xmin, xmax, 100)\n",
    "p = halfnorm.pdf(x, mu, std)\n",
    "\n",
    "plt.plot(x, p, 'k', linewidth=2)\n",
    "title = \"Fit Values: $\\mu = $ {:.2f} and $\\sigma = $ {:.2f}\".format(mu, std)\n",
    "plt.title(title)\n",
    "plt.xlabel(r\"$\\Delta T_{photon events}$\")\n",
    "plt.ylabel(\"Photon Event Counts\")\n",
    "# Display the plot\n",
    "plt.show()"
   ]
  },
  {
   "cell_type": "markdown",
   "id": "97fbfa67-9287-4eef-933f-cf936e8dde57",
   "metadata": {},
   "source": [
    "## Burst Selection: Filter Out the Noise and Plot to Inspect\n",
    "Set the threshold to 4sigma to the left of the mean, effectively isolating the protien dynamics."
   ]
  },
  {
   "cell_type": "code",
   "execution_count": 20,
   "id": "30c2ab99-bc54-4a48-9415-d958b6a41db1",
   "metadata": {},
   "outputs": [],
   "source": [
    "### Using std from halfnorm fit, set the threshold for filtering out noise. Then, filter out noise. Raise 10 to threshold later for burst selection\n",
    "threshold_value = mu - 4*std #raise 10 to the power of this threshold to obtain the threshold in Paris.\n",
    "filtered_values = ma.masked_greater(logrunavg, threshold_value)"
   ]
  },
  {
   "cell_type": "code",
   "execution_count": 21,
   "id": "fb557882-5c02-4f69-a58f-1a4a98742716",
   "metadata": {},
   "outputs": [],
   "source": [
    "# visualize the log running average and the threshold values\n",
    "plt.plot(xarr, logrunavg, label='Running Average', linestyle='None', marker = 'o', markersize = 5)\n",
    "plt.plot(xarr, filtered_values, label='Threshold Values', linestyle='None', marker = '.', markersize = 5)\n",
    "plt.xlabel('Photon Event #')\n",
    "plt.ylabel('log(Photon Interval Time)')\n",
    "plt.legend()\n",
    "plt.xlim(min_event, max_event)\n",
    "plt.show()"
   ]
  },
  {
   "cell_type": "markdown",
   "id": "1d09a742-61c9-41be-b280-e90ab34602ec",
   "metadata": {},
   "source": [
    "## Burst Selection: Create the Burst Index By Filtering with the Threshold.\n",
    "- The **burst_index** will contain a burst at each index. A burst is a collection of photon events that we hope contains protien dynamics information!!!"
   ]
  },
  {
   "cell_type": "code",
   "execution_count": 26,
   "id": "87a38c84-e5dc-47aa-9723-0a019de722f0",
   "metadata": {},
   "outputs": [],
   "source": [
    "### Get a burst index. Each list is a burst, and each list contains the indices of \n",
    "### the photon events in the original data.\n",
    "burst_index = an.extract_unmasked_indices(filtered_values)\n",
    "\n",
    "# Store result in the burst dict.\n",
    "burst_dict = {ptu_files[0] : burst_index}"
   ]
  },
  {
   "cell_type": "markdown",
   "id": "db4c92b0-8575-4dc7-a0e7-2223ac4462b9",
   "metadata": {},
   "source": [
    "## Burst Selection: Generate the Burst Indices for the Remaining PTU Files in the Directory\n",
    "Using the parameters for the first PTU file, batch process the remaining PTU files."
   ]
  },
  {
   "cell_type": "code",
   "execution_count": 39,
   "id": "9f2a3093-9209-4c4a-aefc-7e0539bfae3f",
   "metadata": {
    "scrolled": true
   },
   "outputs": [
    {
     "name": "stdout",
     "output_type": "stream",
     "text": [
      "Calculating bursts for Split_After_Adjust_LF_7200s_pinhole6-000001.ptu\n",
      "Calculating bursts for Split_After_Adjust_LF_7200s_pinhole6-000002.ptu\n",
      "Calculating bursts for Split_After_Adjust_LF_7200s_pinhole6-000003.ptu\n",
      "Calculating bursts for Split_After_Adjust_LF_7200s_pinhole6-000004.ptu\n",
      "Calculating bursts for Split_After_Adjust_LF_7200s_pinhole6-000005.ptu\n",
      "Calculating bursts for Split_After_Adjust_LF_7200s_pinhole6-000006.ptu\n",
      "Calculating bursts for Split_After_Adjust_LF_7200s_pinhole6-000007.ptu\n",
      "The loop took 166.49379777908325 seconds to run.\n"
     ]
    }
   ],
   "source": [
    "import time\n",
    "\n",
    "start_time = time.time()\n",
    "for file in ptu_files[1:]:\n",
    "    filename = file.split(\"/\")[-1]\n",
    "    print(\"Calculating bursts for \" + filename)\n",
    "    data_ptu = tttrlib.TTTR(file, 'PTU')\n",
    "    photon_time_intervals = an.calc_interphoton_arrival_times(data_ptu)\n",
    "    window_size = 30\n",
    "    running_avg = an.calc_running_average(photon_time_intervals, window_size)\n",
    "    xarr = np.arange(window_size - 1, len(photon_time_intervals))\n",
    "    logrunavg = np.log10(running_avg)\n",
    "    filtered_values = ma.masked_greater(logrunavg, threshold_value)\n",
    "    burst_index = an.extract_unmasked_indices(filtered_values)\n",
    "    burst_dict[file] = burst_index\n",
    "    # Record the end time\n",
    "end_time = time.time()\n",
    "\n",
    "# Calculate the duration\n",
    "duration = end_time - start_time\n",
    "    \n",
    "# Print the duration in seconds\n",
    "print(f\"The loop took {duration} seconds to run.\")"
   ]
  },
  {
   "cell_type": "code",
   "execution_count": 40,
   "id": "ebd64631-6348-4302-8a31-6b82efc42c7c",
   "metadata": {},
   "outputs": [],
   "source": [
    "directory = os.path.dirname(ptu_files[0])\n",
    "with open( directory + '/burst_dict.pkl', 'wb' ) as file:\n",
    "    pickle.dump(burst_dict, file)"
   ]
  },
  {
   "cell_type": "code",
   "execution_count": 35,
   "id": "b3732b0f-96a6-40cc-8866-cc84f92a0e38",
   "metadata": {},
   "outputs": [],
   "source": [
    "# test that the loaded burst is identical to the pickled burst.\n",
    "with open(directory + '/burst_dict.pkl', 'rb') as file:\n",
    "    loaded_burst_dict = pickle.load(file)"
   ]
  },
  {
   "cell_type": "code",
   "execution_count": 36,
   "id": "65ce26ab-8fe1-4e71-9831-ae7b4db93a89",
   "metadata": {},
   "outputs": [
    {
     "data": {
      "text/plain": [
       "True"
      ]
     },
     "execution_count": 36,
     "metadata": {},
     "output_type": "execute_result"
    }
   ],
   "source": [
    "loaded_burst_dict == burst_dict"
   ]
  },
  {
   "cell_type": "code",
   "execution_count": null,
   "id": "566c0a0a-c24a-40dd-8a08-9af00d0b8646",
   "metadata": {},
   "outputs": [],
   "source": []
  }
 ],
 "metadata": {
  "kernelspec": {
   "display_name": "physics-64",
   "language": "python",
   "name": "python3"
  },
  "language_info": {
   "codemirror_mode": {
    "name": "ipython",
    "version": 3
   },
   "file_extension": ".py",
   "mimetype": "text/x-python",
   "name": "python",
   "nbconvert_exporter": "python",
   "pygments_lexer": "ipython3",
   "version": "3.11.9"
  }
 },
 "nbformat": 4,
 "nbformat_minor": 5
}
